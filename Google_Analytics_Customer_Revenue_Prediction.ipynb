{
  "nbformat": 4,
  "nbformat_minor": 0,
  "metadata": {
    "colab": {
      "name": "Google Analytics Customer Revenue Prediction.ipynb",
      "version": "0.3.2",
      "provenance": [],
      "toc_visible": true,
      "include_colab_link": true
    },
    "kernelspec": {
      "name": "python3",
      "display_name": "Python 3"
    }
  },
  "cells": [
    {
      "cell_type": "markdown",
      "metadata": {
        "id": "view-in-github",
        "colab_type": "text"
      },
      "source": [
        "[View in Colaboratory](https://colab.research.google.com/github/taiki323/kaggle_training/blob/master/Google_Analytics_Customer_Revenue_Prediction.ipynb)"
      ]
    },
    {
      "metadata": {
        "id": "CBWtkbrfW9FR",
        "colab_type": "text"
      },
      "cell_type": "markdown",
      "source": [
        "# 課題\n",
        "- Google Merchandise Storeの顧客データを分析して、顧客あたりの収益を予測する。\n",
        "\n",
        "- 各fullVisitorIdに対して、PredictedLogRevenueで総収入の自然対数を予測する。RMSEで評価\n",
        "\n",
        "![target](https://github.com/taiki323/image_house/blob/master/target1.PNG?raw=true)"
      ]
    },
    {
      "metadata": {
        "id": "g8E7I9K1pnR2",
        "colab_type": "text"
      },
      "cell_type": "markdown",
      "source": [
        "# セットアップ"
      ]
    },
    {
      "metadata": {
        "id": "0kdox9YE47UJ",
        "colab_type": "code",
        "colab": {
          "base_uri": "https://localhost:8080/",
          "height": 241
        },
        "outputId": "2b070938-0844-4c39-9f64-c54322231fb2"
      },
      "cell_type": "code",
      "source": [
        "!pip install kaggle　\n",
        "from googleapiclient.discovery import build\n",
        "import io, os\n",
        "from googleapiclient.http import MediaIoBaseDownload\n",
        "from google.colab import auth\n",
        "\n",
        "auth.authenticate_user()\n",
        "\n",
        "drive_service = build('drive', 'v3')\n",
        "results = drive_service.files().list(\n",
        "        q=\"name = 'kaggle.json'\", fields=\"files(id)\").execute()\n",
        "kaggle_api_key = results.get('files', [])\n",
        "\n",
        "filename = \"/content/.kaggle/kaggle.json\"\n",
        "os.makedirs(os.path.dirname(filename), exist_ok=True)\n",
        "\n",
        "request = drive_service.files().get_media(fileId=kaggle_api_key[0]['id'])\n",
        "fh = io.FileIO(filename, 'wb')\n",
        "downloader = MediaIoBaseDownload(fh, request)\n",
        "done = False\n",
        "while done is False:\n",
        "    status, done = downloader.next_chunk()\n",
        "    print(\"Download %d%%.\" % int(status.progress() * 100))\n",
        "os.chmod(filename, 600)"
      ],
      "execution_count": 0,
      "outputs": [
        {
          "output_type": "stream",
          "text": [
            "Requirement already satisfied: kaggle in /usr/local/lib/python3.6/dist-packages (1.4.7.1)\n",
            "Requirement already satisfied: tqdm in /usr/local/lib/python3.6/dist-packages (from kaggle) (4.26.0)\n",
            "Requirement already satisfied: six>=1.10 in /usr/local/lib/python3.6/dist-packages (from kaggle) (1.11.0)\n",
            "Requirement already satisfied: certifi in /usr/local/lib/python3.6/dist-packages (from kaggle) (2018.8.24)\n",
            "Requirement already satisfied: python-slugify in /usr/local/lib/python3.6/dist-packages (from kaggle) (1.2.6)\n",
            "Requirement already satisfied: requests in /usr/local/lib/python3.6/dist-packages (from kaggle) (2.18.4)\n",
            "Requirement already satisfied: urllib3<1.23.0,>=1.15 in /usr/local/lib/python3.6/dist-packages (from kaggle) (1.22)\n",
            "Requirement already satisfied: python-dateutil in /usr/local/lib/python3.6/dist-packages (from kaggle) (2.5.3)\n",
            "Requirement already satisfied: Unidecode>=0.04.16 in /usr/local/lib/python3.6/dist-packages (from python-slugify->kaggle) (1.0.22)\n",
            "Requirement already satisfied: chardet<3.1.0,>=3.0.2 in /usr/local/lib/python3.6/dist-packages (from requests->kaggle) (3.0.4)\n",
            "Requirement already satisfied: idna<2.7,>=2.5 in /usr/local/lib/python3.6/dist-packages (from requests->kaggle) (2.6)\n",
            "Download 100%.\n"
          ],
          "name": "stdout"
        }
      ]
    },
    {
      "metadata": {
        "id": "QG-a8EbCs0DU",
        "colab_type": "code",
        "colab": {
          "base_uri": "https://localhost:8080/",
          "height": 204
        },
        "outputId": "55e5dfeb-cd2d-4aa7-ef2a-a34976dcc5b4"
      },
      "cell_type": "code",
      "source": [
        "# !mkdir .kaggle\n",
        "!mkdir ~/.kaggle\n",
        "%cd /content\n",
        "!mkdir work\n",
        "%cd work\n",
        "!cp /content/.kaggle/kaggle.json ~/.kaggle/kaggle.json\n",
        "!kaggle competitions download -c ga-customer-revenue-prediction"
      ],
      "execution_count": 0,
      "outputs": [
        {
          "output_type": "stream",
          "text": [
            "mkdir: cannot create directory ‘/root/.kaggle’: File exists\n",
            "/content\n",
            "mkdir: cannot create directory ‘work’: File exists\n",
            "/content/work\n",
            "User cancelled operation\n",
            "Traceback (most recent call last):\n",
            "  File \"/usr/local/bin/kaggle\", line 11, in <module>\n",
            "    sys.exit(main())\n",
            "  File \"/usr/local/lib/python3.6/dist-packages/kaggle/cli.py\", line 59, in main\n",
            "    out = None\n",
            "KeyboardInterrupt\n"
          ],
          "name": "stdout"
        }
      ]
    },
    {
      "metadata": {
        "id": "c6IOzjQmTZJu",
        "colab_type": "code",
        "colab": {
          "base_uri": "https://localhost:8080/",
          "height": 153
        },
        "outputId": "f51503d0-5de2-4aba-acee-8c359c067a8e"
      },
      "cell_type": "code",
      "source": [
        "!unzip '*.zip'"
      ],
      "execution_count": 0,
      "outputs": [
        {
          "output_type": "stream",
          "text": [
            "Archive:  sample_submission.csv.zip\n",
            "replace sample_submission.csv? [y]es, [n]o, [A]ll, [N]one, [r]ename: N\n",
            "\n",
            "Archive:  train.csv.zip\n",
            "\n",
            "Archive:  test.csv.zip\n",
            "\n",
            "3 archives were successfully processed.\n"
          ],
          "name": "stdout"
        }
      ]
    },
    {
      "metadata": {
        "id": "BXMoUb8DUL0D",
        "colab_type": "code",
        "colab": {
          "base_uri": "https://localhost:8080/",
          "height": 17
        },
        "outputId": "a021433a-45e7-461a-c6f5-fdba2c303d9c"
      },
      "cell_type": "code",
      "source": [
        "import pandas as pd\n",
        "import numpy as np\n",
        "import re\n",
        "import sklearn\n",
        "import xgboost as xgb\n",
        "import seaborn as sns\n",
        "import matplotlib.pyplot as plt\n",
        "%matplotlib inline\n",
        "\n",
        "import plotly.offline as py\n",
        "py.init_notebook_mode(connected=True)\n",
        "import plotly.graph_objs as go\n",
        "import plotly.tools as tls\n",
        "\n",
        "import warnings\n",
        "warnings.filterwarnings('ignore')\n",
        "\n",
        "# Going to use these 5 base models for the stacking\n",
        "from sklearn.ensemble import (RandomForestClassifier, AdaBoostClassifier, \n",
        "                              GradientBoostingClassifier, ExtraTreesClassifier)\n",
        "from sklearn.svm import SVC\n",
        "from sklearn.cross_validation import KFold"
      ],
      "execution_count": 0,
      "outputs": [
        {
          "output_type": "display_data",
          "data": {
            "text/html": [
              "<script>requirejs.config({paths: { 'plotly': ['https://cdn.plot.ly/plotly-latest.min']},});if(!window.Plotly) {{require(['plotly'],function(plotly) {window.Plotly=plotly;});}}</script>"
            ],
            "text/plain": [
              "<IPython.core.display.HTML object>"
            ]
          },
          "metadata": {
            "tags": []
          }
        }
      ]
    },
    {
      "metadata": {
        "id": "y51E4iGwZRor",
        "colab_type": "text"
      },
      "cell_type": "markdown",
      "source": [
        "# 前処理"
      ]
    },
    {
      "metadata": {
        "id": "-mxXqsKHUKLA",
        "colab_type": "text"
      },
      "cell_type": "markdown",
      "source": [
        "## データ確認\n",
        "１回のストア訪問につき、１行のデータになる。\n",
        "\n",
        "train:90万データ   \n",
        "test: 80万データ\n",
        "- fullVisitorId: 一意なユーザID\n",
        "- channelGrouping: ユーザがストアにアクセスした経路(アフィリエイトなど)\n",
        "- date: ストアに訪れた日付\n",
        "- device: ユーザが使用したデバイス\n",
        "- geoNetwork: ユーザがいる地域\n",
        "- sessionId: セッションID\n",
        "- socialEngagementType: Not Socially Engagedしかデータない\n",
        "- totals: セッション全体の集計値\n",
        "- trafficSource: トラフィックソースの情報\n",
        "- visitId: セッションID。ユーザにのみ一意。\n",
        "- visitNumber: セッション番号。初回アクセスなら1。\n",
        "- visitStartTime: ストアに訪れた時間"
      ]
    },
    {
      "metadata": {
        "id": "JzzL2g1owcQr",
        "colab_type": "code",
        "colab": {}
      },
      "cell_type": "code",
      "source": [
        "#データ読み込み\n",
        "def load_df(csv_path='../input/train.csv', nrows=None):\n",
        "    JSON_COLUMNS = ['device', 'geoNetwork', 'totals', 'trafficSource']\n",
        "\n",
        "    df = pd.read_csv(csv_path, dtype={'fullVisitorId': 'str'}, nrows=nrows)\n",
        "\n",
        "    for column in JSON_COLUMNS:\n",
        "        df = df.join(pd.DataFrame(df.pop(column).apply(pd.io.json.loads).values.tolist(), index=df.index))\n",
        "\n",
        "    return df\n",
        "  \n",
        "train = load_df(\"/content/work/train.csv\")\n",
        "test = load_df(\"/content/work/test.csv\")"
      ],
      "execution_count": 0,
      "outputs": []
    },
    {
      "metadata": {
        "id": "CUtjK2LL0IDP",
        "colab_type": "code",
        "colab": {
          "base_uri": "https://localhost:8080/",
          "height": 542
        },
        "outputId": "1ded060f-1af4-4977-b23b-5e9ca4b90d10"
      },
      "cell_type": "code",
      "source": [
        "print(train.shape)\n",
        "print(test.shape)\n",
        "train.head()"
      ],
      "execution_count": 0,
      "outputs": [
        {
          "output_type": "stream",
          "text": [
            "(903653, 50)\n",
            "(804684, 48)\n"
          ],
          "name": "stdout"
        },
        {
          "output_type": "execute_result",
          "data": {
            "text/html": [
              "<div>\n",
              "<style scoped>\n",
              "    .dataframe tbody tr th:only-of-type {\n",
              "        vertical-align: middle;\n",
              "    }\n",
              "\n",
              "    .dataframe tbody tr th {\n",
              "        vertical-align: top;\n",
              "    }\n",
              "\n",
              "    .dataframe thead th {\n",
              "        text-align: right;\n",
              "    }\n",
              "</style>\n",
              "<table border=\"1\" class=\"dataframe\">\n",
              "  <thead>\n",
              "    <tr style=\"text-align: right;\">\n",
              "      <th></th>\n",
              "      <th>channelGrouping</th>\n",
              "      <th>date</th>\n",
              "      <th>fullVisitorId</th>\n",
              "      <th>sessionId</th>\n",
              "      <th>socialEngagementType</th>\n",
              "      <th>visitId</th>\n",
              "      <th>visitNumber</th>\n",
              "      <th>visitStartTime</th>\n",
              "      <th>browser</th>\n",
              "      <th>browserSize</th>\n",
              "      <th>...</th>\n",
              "      <th>visits</th>\n",
              "      <th>adContent</th>\n",
              "      <th>adwordsClickInfo</th>\n",
              "      <th>campaign</th>\n",
              "      <th>campaignCode</th>\n",
              "      <th>isTrueDirect</th>\n",
              "      <th>keyword</th>\n",
              "      <th>medium</th>\n",
              "      <th>referralPath</th>\n",
              "      <th>source</th>\n",
              "    </tr>\n",
              "  </thead>\n",
              "  <tbody>\n",
              "    <tr>\n",
              "      <th>0</th>\n",
              "      <td>Organic Search</td>\n",
              "      <td>20160902</td>\n",
              "      <td>1131660440785968503</td>\n",
              "      <td>1131660440785968503_1472830385</td>\n",
              "      <td>Not Socially Engaged</td>\n",
              "      <td>1472830385</td>\n",
              "      <td>1</td>\n",
              "      <td>1472830385</td>\n",
              "      <td>Chrome</td>\n",
              "      <td>not available in demo dataset</td>\n",
              "      <td>...</td>\n",
              "      <td>1</td>\n",
              "      <td>NaN</td>\n",
              "      <td>{'criteriaParameters': 'not available in demo ...</td>\n",
              "      <td>(not set)</td>\n",
              "      <td>NaN</td>\n",
              "      <td>NaN</td>\n",
              "      <td>(not provided)</td>\n",
              "      <td>organic</td>\n",
              "      <td>NaN</td>\n",
              "      <td>google</td>\n",
              "    </tr>\n",
              "    <tr>\n",
              "      <th>1</th>\n",
              "      <td>Organic Search</td>\n",
              "      <td>20160902</td>\n",
              "      <td>377306020877927890</td>\n",
              "      <td>377306020877927890_1472880147</td>\n",
              "      <td>Not Socially Engaged</td>\n",
              "      <td>1472880147</td>\n",
              "      <td>1</td>\n",
              "      <td>1472880147</td>\n",
              "      <td>Firefox</td>\n",
              "      <td>not available in demo dataset</td>\n",
              "      <td>...</td>\n",
              "      <td>1</td>\n",
              "      <td>NaN</td>\n",
              "      <td>{'criteriaParameters': 'not available in demo ...</td>\n",
              "      <td>(not set)</td>\n",
              "      <td>NaN</td>\n",
              "      <td>NaN</td>\n",
              "      <td>(not provided)</td>\n",
              "      <td>organic</td>\n",
              "      <td>NaN</td>\n",
              "      <td>google</td>\n",
              "    </tr>\n",
              "    <tr>\n",
              "      <th>2</th>\n",
              "      <td>Organic Search</td>\n",
              "      <td>20160902</td>\n",
              "      <td>3895546263509774583</td>\n",
              "      <td>3895546263509774583_1472865386</td>\n",
              "      <td>Not Socially Engaged</td>\n",
              "      <td>1472865386</td>\n",
              "      <td>1</td>\n",
              "      <td>1472865386</td>\n",
              "      <td>Chrome</td>\n",
              "      <td>not available in demo dataset</td>\n",
              "      <td>...</td>\n",
              "      <td>1</td>\n",
              "      <td>NaN</td>\n",
              "      <td>{'criteriaParameters': 'not available in demo ...</td>\n",
              "      <td>(not set)</td>\n",
              "      <td>NaN</td>\n",
              "      <td>NaN</td>\n",
              "      <td>(not provided)</td>\n",
              "      <td>organic</td>\n",
              "      <td>NaN</td>\n",
              "      <td>google</td>\n",
              "    </tr>\n",
              "    <tr>\n",
              "      <th>3</th>\n",
              "      <td>Organic Search</td>\n",
              "      <td>20160902</td>\n",
              "      <td>4763447161404445595</td>\n",
              "      <td>4763447161404445595_1472881213</td>\n",
              "      <td>Not Socially Engaged</td>\n",
              "      <td>1472881213</td>\n",
              "      <td>1</td>\n",
              "      <td>1472881213</td>\n",
              "      <td>UC Browser</td>\n",
              "      <td>not available in demo dataset</td>\n",
              "      <td>...</td>\n",
              "      <td>1</td>\n",
              "      <td>NaN</td>\n",
              "      <td>{'criteriaParameters': 'not available in demo ...</td>\n",
              "      <td>(not set)</td>\n",
              "      <td>NaN</td>\n",
              "      <td>NaN</td>\n",
              "      <td>google + online</td>\n",
              "      <td>organic</td>\n",
              "      <td>NaN</td>\n",
              "      <td>google</td>\n",
              "    </tr>\n",
              "    <tr>\n",
              "      <th>4</th>\n",
              "      <td>Organic Search</td>\n",
              "      <td>20160902</td>\n",
              "      <td>27294437909732085</td>\n",
              "      <td>27294437909732085_1472822600</td>\n",
              "      <td>Not Socially Engaged</td>\n",
              "      <td>1472822600</td>\n",
              "      <td>2</td>\n",
              "      <td>1472822600</td>\n",
              "      <td>Chrome</td>\n",
              "      <td>not available in demo dataset</td>\n",
              "      <td>...</td>\n",
              "      <td>1</td>\n",
              "      <td>NaN</td>\n",
              "      <td>{'criteriaParameters': 'not available in demo ...</td>\n",
              "      <td>(not set)</td>\n",
              "      <td>NaN</td>\n",
              "      <td>True</td>\n",
              "      <td>(not provided)</td>\n",
              "      <td>organic</td>\n",
              "      <td>NaN</td>\n",
              "      <td>google</td>\n",
              "    </tr>\n",
              "  </tbody>\n",
              "</table>\n",
              "<p>5 rows × 50 columns</p>\n",
              "</div>"
            ],
            "text/plain": [
              "  channelGrouping      date        fullVisitorId  \\\n",
              "0  Organic Search  20160902  1131660440785968503   \n",
              "1  Organic Search  20160902   377306020877927890   \n",
              "2  Organic Search  20160902  3895546263509774583   \n",
              "3  Organic Search  20160902  4763447161404445595   \n",
              "4  Organic Search  20160902    27294437909732085   \n",
              "\n",
              "                        sessionId  socialEngagementType     visitId  \\\n",
              "0  1131660440785968503_1472830385  Not Socially Engaged  1472830385   \n",
              "1   377306020877927890_1472880147  Not Socially Engaged  1472880147   \n",
              "2  3895546263509774583_1472865386  Not Socially Engaged  1472865386   \n",
              "3  4763447161404445595_1472881213  Not Socially Engaged  1472881213   \n",
              "4    27294437909732085_1472822600  Not Socially Engaged  1472822600   \n",
              "\n",
              "   visitNumber  visitStartTime     browser                    browserSize  \\\n",
              "0            1      1472830385      Chrome  not available in demo dataset   \n",
              "1            1      1472880147     Firefox  not available in demo dataset   \n",
              "2            1      1472865386      Chrome  not available in demo dataset   \n",
              "3            1      1472881213  UC Browser  not available in demo dataset   \n",
              "4            2      1472822600      Chrome  not available in demo dataset   \n",
              "\n",
              "    ...   visits adContent                                   adwordsClickInfo  \\\n",
              "0   ...        1       NaN  {'criteriaParameters': 'not available in demo ...   \n",
              "1   ...        1       NaN  {'criteriaParameters': 'not available in demo ...   \n",
              "2   ...        1       NaN  {'criteriaParameters': 'not available in demo ...   \n",
              "3   ...        1       NaN  {'criteriaParameters': 'not available in demo ...   \n",
              "4   ...        1       NaN  {'criteriaParameters': 'not available in demo ...   \n",
              "\n",
              "    campaign campaignCode isTrueDirect          keyword   medium referralPath  \\\n",
              "0  (not set)          NaN          NaN   (not provided)  organic          NaN   \n",
              "1  (not set)          NaN          NaN   (not provided)  organic          NaN   \n",
              "2  (not set)          NaN          NaN   (not provided)  organic          NaN   \n",
              "3  (not set)          NaN          NaN  google + online  organic          NaN   \n",
              "4  (not set)          NaN         True   (not provided)  organic          NaN   \n",
              "\n",
              "   source  \n",
              "0  google  \n",
              "1  google  \n",
              "2  google  \n",
              "3  google  \n",
              "4  google  \n",
              "\n",
              "[5 rows x 50 columns]"
            ]
          },
          "metadata": {
            "tags": []
          },
          "execution_count": 7
        }
      ]
    },
    {
      "metadata": {
        "id": "kenneqh_iwUB",
        "colab_type": "code",
        "colab": {
          "base_uri": "https://localhost:8080/",
          "height": 34
        },
        "outputId": "0e97873f-d78e-45e0-b817-a5c7f9a836e8"
      },
      "cell_type": "code",
      "source": [
        "#trainデータにあって、testデータに無いカラム\n",
        "diff_col = list(set(train.columns) - set(test.columns))\n",
        "print(diff_col)"
      ],
      "execution_count": 0,
      "outputs": [
        {
          "output_type": "stream",
          "text": [
            "['transactionRevenue', 'campaignCode']\n"
          ],
          "name": "stdout"
        }
      ]
    },
    {
      "metadata": {
        "id": "bwF_VvIEAg_p",
        "colab_type": "text"
      },
      "cell_type": "markdown",
      "source": [
        "## データクレイジング"
      ]
    },
    {
      "metadata": {
        "id": "NanORg2NjyTp",
        "colab_type": "text"
      },
      "cell_type": "markdown",
      "source": [
        "### 不要なカラムの除去"
      ]
    },
    {
      "metadata": {
        "id": "UIPMOvdm1oQk",
        "colab_type": "code",
        "colab": {
          "base_uri": "https://localhost:8080/",
          "height": 374
        },
        "outputId": "43d166f2-404d-417e-ad0c-b08030c0a018"
      },
      "cell_type": "code",
      "source": [
        "#全て同じ値のカラムを削除\n",
        "train['adwordsClickInfo'] = train['adwordsClickInfo'].astype(str)\n",
        "test['adwordsClickInfo'] = test['adwordsClickInfo'].astype(str)\n",
        "train = train.drop('campaignCode',axis=1)\n",
        "\n",
        "for column in train.columns:\n",
        "  if len(train[column].value_counts()) == 1:\n",
        "    train = train.drop(column,axis=1)\n",
        "    test = test.drop(column,axis=1)\n",
        "    print(column)"
      ],
      "execution_count": 0,
      "outputs": [
        {
          "output_type": "stream",
          "text": [
            "socialEngagementType\n",
            "browserSize\n",
            "browserVersion\n",
            "flashVersion\n",
            "language\n",
            "mobileDeviceBranding\n",
            "mobileDeviceInfo\n",
            "mobileDeviceMarketingName\n",
            "mobileDeviceModel\n",
            "mobileInputSelector\n",
            "operatingSystemVersion\n",
            "screenColors\n",
            "screenResolution\n",
            "cityId\n",
            "latitude\n",
            "longitude\n",
            "networkLocation\n",
            "bounces\n",
            "newVisits\n",
            "visits\n",
            "isTrueDirect\n"
          ],
          "name": "stdout"
        }
      ]
    },
    {
      "metadata": {
        "id": "yeb7YcbRZ8z1",
        "colab_type": "code",
        "colab": {
          "base_uri": "https://localhost:8080/",
          "height": 986
        },
        "outputId": "7d59ec71-d473-421f-c01e-79b2b93392cb"
      },
      "cell_type": "code",
      "source": [
        "#欠損値を確認\n",
        "def kesson_table (df):\n",
        "  null_val = df.isnull().sum()\n",
        "  percent = (null_val / len(df)) * 100\n",
        "  kesson_table = pd.concat([null_val, percent],axis=1)\n",
        "  kesson_table_ren_columns = kesson_table.rename(columns={0:'欠損値', 1:'%'})\n",
        "  return kesson_table_ren_columns\n",
        "\n",
        "print(kesson_table(train))\n",
        "print(kesson_table(test))"
      ],
      "execution_count": 0,
      "outputs": [
        {
          "output_type": "stream",
          "text": [
            "                       欠損値          %\n",
            "channelGrouping          0   0.000000\n",
            "date                     0   0.000000\n",
            "fullVisitorId            0   0.000000\n",
            "sessionId                0   0.000000\n",
            "visitId                  0   0.000000\n",
            "visitNumber              0   0.000000\n",
            "visitStartTime           0   0.000000\n",
            "browser                  0   0.000000\n",
            "deviceCategory           0   0.000000\n",
            "isMobile                 0   0.000000\n",
            "operatingSystem          0   0.000000\n",
            "city                     0   0.000000\n",
            "continent                0   0.000000\n",
            "country                  0   0.000000\n",
            "metro                    0   0.000000\n",
            "networkDomain            0   0.000000\n",
            "region                   0   0.000000\n",
            "subContinent             0   0.000000\n",
            "hits                     0   0.000000\n",
            "pageviews              100   0.011066\n",
            "transactionRevenue  892138  98.725728\n",
            "adContent           892707  98.788694\n",
            "adwordsClickInfo         0   0.000000\n",
            "campaign                 0   0.000000\n",
            "keyword             502929  55.655102\n",
            "medium                   0   0.000000\n",
            "referralPath        572712  63.377425\n",
            "source                   0   0.000000\n",
            "                     欠損値          %\n",
            "channelGrouping        0   0.000000\n",
            "date                   0   0.000000\n",
            "fullVisitorId          0   0.000000\n",
            "sessionId              0   0.000000\n",
            "visitId                0   0.000000\n",
            "visitNumber            0   0.000000\n",
            "visitStartTime         0   0.000000\n",
            "browser                0   0.000000\n",
            "deviceCategory         0   0.000000\n",
            "isMobile               0   0.000000\n",
            "operatingSystem        0   0.000000\n",
            "city                   0   0.000000\n",
            "continent              0   0.000000\n",
            "country                0   0.000000\n",
            "metro                  0   0.000000\n",
            "networkDomain          0   0.000000\n",
            "region                 0   0.000000\n",
            "subContinent           0   0.000000\n",
            "hits                   0   0.000000\n",
            "pageviews            139   0.017274\n",
            "adContent         750893  93.315264\n",
            "adwordsClickInfo       0   0.000000\n",
            "campaign               0   0.000000\n",
            "keyword           391032  48.594479\n",
            "medium                 0   0.000000\n",
            "referralPath      569361  70.755850\n",
            "source                 0   0.000000\n"
          ],
          "name": "stdout"
        }
      ]
    },
    {
      "metadata": {
        "id": "7syswkHEqkUs",
        "colab_type": "code",
        "colab": {}
      },
      "cell_type": "code",
      "source": [
        "#半分以上データが欠損しているカラムを削除\n",
        "#transactionRevenueは目的変数なので削除しない\n",
        "del_columns = [\"referralPath\",\"keyword\", \"adContent\"]\n",
        "train = train.drop(del_columns, axis=1)\n",
        "test = test.drop(del_columns, axis=1)"
      ],
      "execution_count": 0,
      "outputs": []
    },
    {
      "metadata": {
        "id": "AOhvlBdiwmgY",
        "colab_type": "code",
        "colab": {}
      },
      "cell_type": "code",
      "source": [
        "#予測に関係のないデータを削除\n",
        "unwanted = [\"browser\", \"adwordsClickInfo\"]\n",
        "train = train.drop(unwanted, axis=1)\n",
        "test = test.drop(unwanted, axis=1)"
      ],
      "execution_count": 0,
      "outputs": []
    },
    {
      "metadata": {
        "id": "qUg438ANyFvX",
        "colab_type": "code",
        "colab": {}
      },
      "cell_type": "code",
      "source": [
        "#transactionRevenueのNaNを0埋め\n",
        "train['transactionRevenue'] = train['transactionRevenue'].fillna(0)"
      ],
      "execution_count": 0,
      "outputs": []
    },
    {
      "metadata": {
        "id": "19LGEO3IFSBN",
        "colab_type": "code",
        "colab": {
          "base_uri": "https://localhost:8080/",
          "height": 51
        },
        "outputId": "27f2d37f-fa86-4b1c-dced-d9a158be8b29"
      },
      "cell_type": "code",
      "source": [
        "print(train.shape)\n",
        "print(test.shape)"
      ],
      "execution_count": 0,
      "outputs": [
        {
          "output_type": "stream",
          "text": [
            "(903653, 23)\n",
            "(804684, 22)\n"
          ],
          "name": "stdout"
        }
      ]
    },
    {
      "metadata": {
        "id": "6xZNaZjWB_Hv",
        "colab_type": "text"
      },
      "cell_type": "markdown",
      "source": [
        "## プロット"
      ]
    },
    {
      "metadata": {
        "id": "ywaqCvjdIGSk",
        "colab_type": "text"
      },
      "cell_type": "markdown",
      "source": [
        "### transactionRevenueの散布図"
      ]
    },
    {
      "metadata": {
        "id": "V8HUWJVbCDNy",
        "colab_type": "code",
        "colab": {}
      },
      "cell_type": "code",
      "source": [
        "train['transactionRevenue'] = train['transactionRevenue'].astype(float)\n",
        "gdf = train.groupby('fullVisitorId')['transactionRevenue'].sum().reset_index()"
      ],
      "execution_count": 0,
      "outputs": []
    },
    {
      "metadata": {
        "id": "2ZRef4OqIUo9",
        "colab_type": "code",
        "colab": {
          "base_uri": "https://localhost:8080/",
          "height": 1969
        },
        "outputId": "39c45f8a-0619-4252-9500-8c7247b89497"
      },
      "cell_type": "code",
      "source": [
        "gdf.sort_values('transactionRevenue')"
      ],
      "execution_count": 0,
      "outputs": [
        {
          "output_type": "execute_result",
          "data": {
            "text/html": [
              "<div>\n",
              "<style scoped>\n",
              "    .dataframe tbody tr th:only-of-type {\n",
              "        vertical-align: middle;\n",
              "    }\n",
              "\n",
              "    .dataframe tbody tr th {\n",
              "        vertical-align: top;\n",
              "    }\n",
              "\n",
              "    .dataframe thead th {\n",
              "        text-align: right;\n",
              "    }\n",
              "</style>\n",
              "<table border=\"1\" class=\"dataframe\">\n",
              "  <thead>\n",
              "    <tr style=\"text-align: right;\">\n",
              "      <th></th>\n",
              "      <th>fullVisitorId</th>\n",
              "      <th>transactionRevenue</th>\n",
              "    </tr>\n",
              "  </thead>\n",
              "  <tbody>\n",
              "    <tr>\n",
              "      <th>0</th>\n",
              "      <td>0000010278554503158</td>\n",
              "      <td>0.000000e+00</td>\n",
              "    </tr>\n",
              "    <tr>\n",
              "      <th>474471</th>\n",
              "      <td>6648333936862347204</td>\n",
              "      <td>0.000000e+00</td>\n",
              "    </tr>\n",
              "    <tr>\n",
              "      <th>474472</th>\n",
              "      <td>664833859746538014</td>\n",
              "      <td>0.000000e+00</td>\n",
              "    </tr>\n",
              "    <tr>\n",
              "      <th>474473</th>\n",
              "      <td>6648399661474388281</td>\n",
              "      <td>0.000000e+00</td>\n",
              "    </tr>\n",
              "    <tr>\n",
              "      <th>474474</th>\n",
              "      <td>6648402145907760889</td>\n",
              "      <td>0.000000e+00</td>\n",
              "    </tr>\n",
              "    <tr>\n",
              "      <th>474475</th>\n",
              "      <td>6648428571934524032</td>\n",
              "      <td>0.000000e+00</td>\n",
              "    </tr>\n",
              "    <tr>\n",
              "      <th>474476</th>\n",
              "      <td>6648438211615859760</td>\n",
              "      <td>0.000000e+00</td>\n",
              "    </tr>\n",
              "    <tr>\n",
              "      <th>474477</th>\n",
              "      <td>6648448038004646979</td>\n",
              "      <td>0.000000e+00</td>\n",
              "    </tr>\n",
              "    <tr>\n",
              "      <th>474478</th>\n",
              "      <td>6648451811895664466</td>\n",
              "      <td>0.000000e+00</td>\n",
              "    </tr>\n",
              "    <tr>\n",
              "      <th>474479</th>\n",
              "      <td>6648507502027055198</td>\n",
              "      <td>0.000000e+00</td>\n",
              "    </tr>\n",
              "    <tr>\n",
              "      <th>474480</th>\n",
              "      <td>6648529860198139953</td>\n",
              "      <td>0.000000e+00</td>\n",
              "    </tr>\n",
              "    <tr>\n",
              "      <th>474481</th>\n",
              "      <td>664854859499098447</td>\n",
              "      <td>0.000000e+00</td>\n",
              "    </tr>\n",
              "    <tr>\n",
              "      <th>474482</th>\n",
              "      <td>6648572926834929967</td>\n",
              "      <td>0.000000e+00</td>\n",
              "    </tr>\n",
              "    <tr>\n",
              "      <th>474483</th>\n",
              "      <td>664860392080396163</td>\n",
              "      <td>0.000000e+00</td>\n",
              "    </tr>\n",
              "    <tr>\n",
              "      <th>474484</th>\n",
              "      <td>6648609789853632556</td>\n",
              "      <td>0.000000e+00</td>\n",
              "    </tr>\n",
              "    <tr>\n",
              "      <th>474485</th>\n",
              "      <td>6648643493762802383</td>\n",
              "      <td>0.000000e+00</td>\n",
              "    </tr>\n",
              "    <tr>\n",
              "      <th>474486</th>\n",
              "      <td>6648699281381365482</td>\n",
              "      <td>0.000000e+00</td>\n",
              "    </tr>\n",
              "    <tr>\n",
              "      <th>474487</th>\n",
              "      <td>6648715141434469970</td>\n",
              "      <td>0.000000e+00</td>\n",
              "    </tr>\n",
              "    <tr>\n",
              "      <th>474470</th>\n",
              "      <td>6648331712579321932</td>\n",
              "      <td>0.000000e+00</td>\n",
              "    </tr>\n",
              "    <tr>\n",
              "      <th>474469</th>\n",
              "      <td>6648303447347788999</td>\n",
              "      <td>0.000000e+00</td>\n",
              "    </tr>\n",
              "    <tr>\n",
              "      <th>474468</th>\n",
              "      <td>6648281550092467565</td>\n",
              "      <td>0.000000e+00</td>\n",
              "    </tr>\n",
              "    <tr>\n",
              "      <th>474467</th>\n",
              "      <td>6648278998916382200</td>\n",
              "      <td>0.000000e+00</td>\n",
              "    </tr>\n",
              "    <tr>\n",
              "      <th>474449</th>\n",
              "      <td>6648062311840298815</td>\n",
              "      <td>0.000000e+00</td>\n",
              "    </tr>\n",
              "    <tr>\n",
              "      <th>474450</th>\n",
              "      <td>6648082104583789679</td>\n",
              "      <td>0.000000e+00</td>\n",
              "    </tr>\n",
              "    <tr>\n",
              "      <th>474451</th>\n",
              "      <td>6648099716195794376</td>\n",
              "      <td>0.000000e+00</td>\n",
              "    </tr>\n",
              "    <tr>\n",
              "      <th>474452</th>\n",
              "      <td>6648121095360295117</td>\n",
              "      <td>0.000000e+00</td>\n",
              "    </tr>\n",
              "    <tr>\n",
              "      <th>474453</th>\n",
              "      <td>6648144707747776419</td>\n",
              "      <td>0.000000e+00</td>\n",
              "    </tr>\n",
              "    <tr>\n",
              "      <th>474454</th>\n",
              "      <td>6648151082825742549</td>\n",
              "      <td>0.000000e+00</td>\n",
              "    </tr>\n",
              "    <tr>\n",
              "      <th>474455</th>\n",
              "      <td>6648176011768730685</td>\n",
              "      <td>0.000000e+00</td>\n",
              "    </tr>\n",
              "    <tr>\n",
              "      <th>474456</th>\n",
              "      <td>6648180636816338577</td>\n",
              "      <td>0.000000e+00</td>\n",
              "    </tr>\n",
              "    <tr>\n",
              "      <th>...</th>\n",
              "      <td>...</td>\n",
              "      <td>...</td>\n",
              "    </tr>\n",
              "    <tr>\n",
              "      <th>485724</th>\n",
              "      <td>6805387544309582877</td>\n",
              "      <td>4.007080e+09</td>\n",
              "    </tr>\n",
              "    <tr>\n",
              "      <th>444932</th>\n",
              "      <td>6236695646664370912</td>\n",
              "      <td>4.009560e+09</td>\n",
              "    </tr>\n",
              "    <tr>\n",
              "      <th>273377</th>\n",
              "      <td>3835134197841326255</td>\n",
              "      <td>4.020480e+09</td>\n",
              "    </tr>\n",
              "    <tr>\n",
              "      <th>585497</th>\n",
              "      <td>8197879643797712877</td>\n",
              "      <td>4.034960e+09</td>\n",
              "    </tr>\n",
              "    <tr>\n",
              "      <th>344724</th>\n",
              "      <td>4835082938415020542</td>\n",
              "      <td>4.071640e+09</td>\n",
              "    </tr>\n",
              "    <tr>\n",
              "      <th>701166</th>\n",
              "      <td>9817395183603701442</td>\n",
              "      <td>4.085500e+09</td>\n",
              "    </tr>\n",
              "    <tr>\n",
              "      <th>174386</th>\n",
              "      <td>2446685875964479851</td>\n",
              "      <td>4.160760e+09</td>\n",
              "    </tr>\n",
              "    <tr>\n",
              "      <th>268753</th>\n",
              "      <td>3769632740374536577</td>\n",
              "      <td>4.272000e+09</td>\n",
              "    </tr>\n",
              "    <tr>\n",
              "      <th>328378</th>\n",
              "      <td>4604965471651937146</td>\n",
              "      <td>4.280700e+09</td>\n",
              "    </tr>\n",
              "    <tr>\n",
              "      <th>231405</th>\n",
              "      <td>3244885836845029978</td>\n",
              "      <td>4.319520e+09</td>\n",
              "    </tr>\n",
              "    <tr>\n",
              "      <th>482512</th>\n",
              "      <td>6760732402251466726</td>\n",
              "      <td>4.330920e+09</td>\n",
              "    </tr>\n",
              "    <tr>\n",
              "      <th>428883</th>\n",
              "      <td>6010250598436085923</td>\n",
              "      <td>4.380030e+09</td>\n",
              "    </tr>\n",
              "    <tr>\n",
              "      <th>211853</th>\n",
              "      <td>2969957690756250633</td>\n",
              "      <td>4.735980e+09</td>\n",
              "    </tr>\n",
              "    <tr>\n",
              "      <th>568795</th>\n",
              "      <td>7965265156545901045</td>\n",
              "      <td>4.847600e+09</td>\n",
              "    </tr>\n",
              "    <tr>\n",
              "      <th>139507</th>\n",
              "      <td>1956307607572137989</td>\n",
              "      <td>5.178710e+09</td>\n",
              "    </tr>\n",
              "    <tr>\n",
              "      <th>390153</th>\n",
              "      <td>5469079519715865124</td>\n",
              "      <td>5.601400e+09</td>\n",
              "    </tr>\n",
              "    <tr>\n",
              "      <th>520016</th>\n",
              "      <td>7284466025557220497</td>\n",
              "      <td>5.947190e+09</td>\n",
              "    </tr>\n",
              "    <tr>\n",
              "      <th>644767</th>\n",
              "      <td>9026840718082010040</td>\n",
              "      <td>6.906380e+09</td>\n",
              "    </tr>\n",
              "    <tr>\n",
              "      <th>535168</th>\n",
              "      <td>7496147812697146114</td>\n",
              "      <td>6.996500e+09</td>\n",
              "    </tr>\n",
              "    <tr>\n",
              "      <th>129164</th>\n",
              "      <td>1814166460229302850</td>\n",
              "      <td>7.042510e+09</td>\n",
              "    </tr>\n",
              "    <tr>\n",
              "      <th>565543</th>\n",
              "      <td>79204932396995037</td>\n",
              "      <td>7.047150e+09</td>\n",
              "    </tr>\n",
              "    <tr>\n",
              "      <th>521958</th>\n",
              "      <td>7311242886083854158</td>\n",
              "      <td>7.143250e+09</td>\n",
              "    </tr>\n",
              "    <tr>\n",
              "      <th>532813</th>\n",
              "      <td>7463172420271311409</td>\n",
              "      <td>7.225100e+09</td>\n",
              "    </tr>\n",
              "    <tr>\n",
              "      <th>644997</th>\n",
              "      <td>9029794295932939024</td>\n",
              "      <td>7.846350e+09</td>\n",
              "    </tr>\n",
              "    <tr>\n",
              "      <th>649241</th>\n",
              "      <td>9089132392240687728</td>\n",
              "      <td>8.951970e+09</td>\n",
              "    </tr>\n",
              "    <tr>\n",
              "      <th>355406</th>\n",
              "      <td>4984366501121503466</td>\n",
              "      <td>9.513900e+09</td>\n",
              "    </tr>\n",
              "    <tr>\n",
              "      <th>318933</th>\n",
              "      <td>4471415710206918415</td>\n",
              "      <td>1.121110e+10</td>\n",
              "    </tr>\n",
              "    <tr>\n",
              "      <th>672547</th>\n",
              "      <td>9417857471295131045</td>\n",
              "      <td>1.517012e+10</td>\n",
              "    </tr>\n",
              "    <tr>\n",
              "      <th>401727</th>\n",
              "      <td>5632276788326171571</td>\n",
              "      <td>1.602375e+10</td>\n",
              "    </tr>\n",
              "    <tr>\n",
              "      <th>139589</th>\n",
              "      <td>1957458976293878100</td>\n",
              "      <td>7.711343e+10</td>\n",
              "    </tr>\n",
              "  </tbody>\n",
              "</table>\n",
              "<p>714167 rows × 2 columns</p>\n",
              "</div>"
            ],
            "text/plain": [
              "              fullVisitorId  transactionRevenue\n",
              "0       0000010278554503158        0.000000e+00\n",
              "474471  6648333936862347204        0.000000e+00\n",
              "474472   664833859746538014        0.000000e+00\n",
              "474473  6648399661474388281        0.000000e+00\n",
              "474474  6648402145907760889        0.000000e+00\n",
              "474475  6648428571934524032        0.000000e+00\n",
              "474476  6648438211615859760        0.000000e+00\n",
              "474477  6648448038004646979        0.000000e+00\n",
              "474478  6648451811895664466        0.000000e+00\n",
              "474479  6648507502027055198        0.000000e+00\n",
              "474480  6648529860198139953        0.000000e+00\n",
              "474481   664854859499098447        0.000000e+00\n",
              "474482  6648572926834929967        0.000000e+00\n",
              "474483   664860392080396163        0.000000e+00\n",
              "474484  6648609789853632556        0.000000e+00\n",
              "474485  6648643493762802383        0.000000e+00\n",
              "474486  6648699281381365482        0.000000e+00\n",
              "474487  6648715141434469970        0.000000e+00\n",
              "474470  6648331712579321932        0.000000e+00\n",
              "474469  6648303447347788999        0.000000e+00\n",
              "474468  6648281550092467565        0.000000e+00\n",
              "474467  6648278998916382200        0.000000e+00\n",
              "474449  6648062311840298815        0.000000e+00\n",
              "474450  6648082104583789679        0.000000e+00\n",
              "474451  6648099716195794376        0.000000e+00\n",
              "474452  6648121095360295117        0.000000e+00\n",
              "474453  6648144707747776419        0.000000e+00\n",
              "474454  6648151082825742549        0.000000e+00\n",
              "474455  6648176011768730685        0.000000e+00\n",
              "474456  6648180636816338577        0.000000e+00\n",
              "...                     ...                 ...\n",
              "485724  6805387544309582877        4.007080e+09\n",
              "444932  6236695646664370912        4.009560e+09\n",
              "273377  3835134197841326255        4.020480e+09\n",
              "585497  8197879643797712877        4.034960e+09\n",
              "344724  4835082938415020542        4.071640e+09\n",
              "701166  9817395183603701442        4.085500e+09\n",
              "174386  2446685875964479851        4.160760e+09\n",
              "268753  3769632740374536577        4.272000e+09\n",
              "328378  4604965471651937146        4.280700e+09\n",
              "231405  3244885836845029978        4.319520e+09\n",
              "482512  6760732402251466726        4.330920e+09\n",
              "428883  6010250598436085923        4.380030e+09\n",
              "211853  2969957690756250633        4.735980e+09\n",
              "568795  7965265156545901045        4.847600e+09\n",
              "139507  1956307607572137989        5.178710e+09\n",
              "390153  5469079519715865124        5.601400e+09\n",
              "520016  7284466025557220497        5.947190e+09\n",
              "644767  9026840718082010040        6.906380e+09\n",
              "535168  7496147812697146114        6.996500e+09\n",
              "129164  1814166460229302850        7.042510e+09\n",
              "565543    79204932396995037        7.047150e+09\n",
              "521958  7311242886083854158        7.143250e+09\n",
              "532813  7463172420271311409        7.225100e+09\n",
              "644997  9029794295932939024        7.846350e+09\n",
              "649241  9089132392240687728        8.951970e+09\n",
              "355406  4984366501121503466        9.513900e+09\n",
              "318933  4471415710206918415        1.121110e+10\n",
              "672547  9417857471295131045        1.517012e+10\n",
              "401727  5632276788326171571        1.602375e+10\n",
              "139589  1957458976293878100        7.711343e+10\n",
              "\n",
              "[714167 rows x 2 columns]"
            ]
          },
          "metadata": {
            "tags": []
          },
          "execution_count": 82
        }
      ]
    }
  ]
}