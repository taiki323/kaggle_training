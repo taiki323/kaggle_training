{
  "nbformat": 4,
  "nbformat_minor": 0,
  "metadata": {
    "colab": {
      "name": "Google Analytics Customer Revenue Prediction.ipynb",
      "version": "0.3.2",
      "provenance": [],
      "collapsed_sections": [],
      "toc_visible": true,
      "include_colab_link": true
    },
    "kernelspec": {
      "name": "python3",
      "display_name": "Python 3"
    }
  },
  "cells": [
    {
      "cell_type": "markdown",
      "metadata": {
        "id": "view-in-github",
        "colab_type": "text"
      },
      "source": [
        "[View in Colaboratory](https://colab.research.google.com/github/taiki323/kaggle_training/blob/master/Google_Analytics_Customer_Revenue_Prediction.ipynb)"
      ]
    },
    {
      "metadata": {
        "id": "CBWtkbrfW9FR",
        "colab_type": "text"
      },
      "cell_type": "markdown",
      "source": [
        "# 課題\n",
        "- Google Merchandise Storeの顧客データを分析して、顧客あたりの収益を予測する。\n",
        "\n",
        "- 各fullVisitorIdに対して、PredictedLogRevenueで総収入の自然対数を予測する。RMSEで評価\n",
        "\n",
        "![target](https://github.com/taiki323/image_house/blob/master/target1.PNG?raw=true)"
      ]
    },
    {
      "metadata": {
        "id": "g8E7I9K1pnR2",
        "colab_type": "text"
      },
      "cell_type": "markdown",
      "source": [
        "# セットアップ"
      ]
    },
    {
      "metadata": {
        "id": "0kdox9YE47UJ",
        "colab_type": "code",
        "colab": {
          "base_uri": "https://localhost:8080/",
          "height": 241
        },
        "outputId": "f1d38e44-8b51-4c38-af35-6d7601dd4576"
      },
      "cell_type": "code",
      "source": [
        "!pip install kaggle　\n",
        "from googleapiclient.discovery import build\n",
        "import io, os\n",
        "from googleapiclient.http import MediaIoBaseDownload\n",
        "from google.colab import auth\n",
        "\n",
        "auth.authenticate_user()\n",
        "\n",
        "drive_service = build('drive', 'v3')\n",
        "results = drive_service.files().list(\n",
        "        q=\"name = 'kaggle.json'\", fields=\"files(id)\").execute()\n",
        "kaggle_api_key = results.get('files', [])\n",
        "\n",
        "filename = \"/content/.kaggle/kaggle.json\"\n",
        "os.makedirs(os.path.dirname(filename), exist_ok=True)\n",
        "\n",
        "request = drive_service.files().get_media(fileId=kaggle_api_key[0]['id'])\n",
        "fh = io.FileIO(filename, 'wb')\n",
        "downloader = MediaIoBaseDownload(fh, request)\n",
        "done = False\n",
        "while done is False:\n",
        "    status, done = downloader.next_chunk()\n",
        "    print(\"Download %d%%.\" % int(status.progress() * 100))\n",
        "os.chmod(filename, 600)"
      ],
      "execution_count": 99,
      "outputs": [
        {
          "output_type": "stream",
          "text": [
            "Requirement already satisfied: kaggle in /usr/local/lib/python3.6/dist-packages (1.4.7.1)\n",
            "Requirement already satisfied: urllib3<1.23.0,>=1.15 in /usr/local/lib/python3.6/dist-packages (from kaggle) (1.22)\n",
            "Requirement already satisfied: python-slugify in /usr/local/lib/python3.6/dist-packages (from kaggle) (1.2.6)\n",
            "Requirement already satisfied: requests in /usr/local/lib/python3.6/dist-packages (from kaggle) (2.18.4)\n",
            "Requirement already satisfied: certifi in /usr/local/lib/python3.6/dist-packages (from kaggle) (2018.8.24)\n",
            "Requirement already satisfied: tqdm in /usr/local/lib/python3.6/dist-packages (from kaggle) (4.26.0)\n",
            "Requirement already satisfied: six>=1.10 in /usr/local/lib/python3.6/dist-packages (from kaggle) (1.11.0)\n",
            "Requirement already satisfied: python-dateutil in /usr/local/lib/python3.6/dist-packages (from kaggle) (2.5.3)\n",
            "Requirement already satisfied: Unidecode>=0.04.16 in /usr/local/lib/python3.6/dist-packages (from python-slugify->kaggle) (1.0.22)\n",
            "Requirement already satisfied: idna<2.7,>=2.5 in /usr/local/lib/python3.6/dist-packages (from requests->kaggle) (2.6)\n",
            "Requirement already satisfied: chardet<3.1.0,>=3.0.2 in /usr/local/lib/python3.6/dist-packages (from requests->kaggle) (3.0.4)\n",
            "Download 100%.\n"
          ],
          "name": "stdout"
        }
      ]
    },
    {
      "metadata": {
        "id": "QG-a8EbCs0DU",
        "colab_type": "code",
        "colab": {
          "base_uri": "https://localhost:8080/",
          "height": 136
        },
        "outputId": "e88aa750-100d-4ca4-9a9a-1e4323b25f92"
      },
      "cell_type": "code",
      "source": [
        "# !mkdir .kaggle\n",
        "!mkdir ~/.kaggle\n",
        "%cd /content\n",
        "!mkdir work\n",
        "%cd work\n",
        "!cp /content/.kaggle/kaggle.json ~/.kaggle/kaggle.json\n",
        "!kaggle competitions download -c ga-customer-revenue-prediction"
      ],
      "execution_count": 100,
      "outputs": [
        {
          "output_type": "stream",
          "text": [
            "mkdir: cannot create directory ‘/root/.kaggle’: File exists\n",
            "/content\n",
            "mkdir: cannot create directory ‘work’: File exists\n",
            "/content/work\n",
            "sample_submission.csv.zip: Skipping, found more recently modified local copy (use --force to force download)\n",
            "test.csv.zip: Skipping, found more recently modified local copy (use --force to force download)\n",
            "train.csv.zip: Skipping, found more recently modified local copy (use --force to force download)\n"
          ],
          "name": "stdout"
        }
      ]
    },
    {
      "metadata": {
        "id": "c6IOzjQmTZJu",
        "colab_type": "code",
        "colab": {
          "base_uri": "https://localhost:8080/",
          "height": 153
        },
        "outputId": "db4cd7f1-2250-4080-a90d-123f06392083"
      },
      "cell_type": "code",
      "source": [
        "!unzip '*.zip'"
      ],
      "execution_count": 101,
      "outputs": [
        {
          "output_type": "stream",
          "text": [
            "Archive:  sample_submission.csv.zip\n",
            "replace sample_submission.csv? [y]es, [n]o, [A]ll, [N]one, [r]ename: N\n",
            "\n",
            "Archive:  test.csv.zip\n",
            "\n",
            "Archive:  train.csv.zip\n",
            "\n",
            "3 archives were successfully processed.\n"
          ],
          "name": "stdout"
        }
      ]
    },
    {
      "metadata": {
        "id": "BXMoUb8DUL0D",
        "colab_type": "code",
        "colab": {
          "base_uri": "https://localhost:8080/",
          "height": 17
        },
        "outputId": "a55d596e-65e8-497e-e7b1-dc90d7fd4782"
      },
      "cell_type": "code",
      "source": [
        "import pandas as pd\n",
        "import numpy as np\n",
        "import datetime\n",
        "import re\n",
        "import sklearn\n",
        "import xgboost as xgb\n",
        "import seaborn as sns\n",
        "import matplotlib.pyplot as plt\n",
        "%matplotlib inline\n",
        "\n",
        "import plotly.offline as py\n",
        "py.init_notebook_mode(connected=True)\n",
        "import plotly.graph_objs as go\n",
        "import plotly.tools as tls\n",
        "\n",
        "import warnings\n",
        "warnings.filterwarnings('ignore')\n",
        "\n",
        "# Going to use these 5 base models for the stacking\n",
        "from sklearn.ensemble import (RandomForestClassifier, AdaBoostClassifier, \n",
        "                              GradientBoostingClassifier, ExtraTreesClassifier)\n",
        "from sklearn.svm import SVC\n",
        "from sklearn.cross_validation import KFold"
      ],
      "execution_count": 206,
      "outputs": [
        {
          "output_type": "display_data",
          "data": {
            "text/html": [
              "<script>requirejs.config({paths: { 'plotly': ['https://cdn.plot.ly/plotly-latest.min']},});if(!window.Plotly) {{require(['plotly'],function(plotly) {window.Plotly=plotly;});}}</script>"
            ],
            "text/plain": [
              "<IPython.core.display.HTML object>"
            ]
          },
          "metadata": {
            "tags": []
          }
        }
      ]
    },
    {
      "metadata": {
        "id": "y51E4iGwZRor",
        "colab_type": "text"
      },
      "cell_type": "markdown",
      "source": [
        "# 前処理"
      ]
    },
    {
      "metadata": {
        "id": "-mxXqsKHUKLA",
        "colab_type": "text"
      },
      "cell_type": "markdown",
      "source": [
        "## データ確認\n",
        "１回のストア訪問につき、１行のデータになる。\n",
        "\n",
        "train:90万データ   \n",
        "test: 80万データ\n",
        "- fullVisitorId: 一意なユーザID\n",
        "- channelGrouping: ユーザがストアにアクセスした経路(アフィリエイトなど)\n",
        "- date: ストアに訪れた日付\n",
        "- device: ユーザが使用したデバイス\n",
        "- geoNetwork: ユーザがいる地域\n",
        "- sessionId: セッションID\n",
        "- socialEngagementType: Not Socially Engagedしかデータない\n",
        "- totals: セッション全体の集計値\n",
        "- trafficSource: トラフィックソースの情報\n",
        "- visitId: セッションID。ユーザにのみ一意。\n",
        "- visitNumber: セッション番号。初回アクセスなら1。\n",
        "- visitStartTime: ストアに訪れた時間"
      ]
    },
    {
      "metadata": {
        "id": "JzzL2g1owcQr",
        "colab_type": "code",
        "colab": {}
      },
      "cell_type": "code",
      "source": [
        "#データ読み込み\n",
        "def load_df(csv_path='../input/train.csv', nrows=None):\n",
        "    JSON_COLUMNS = ['device', 'geoNetwork', 'totals', 'trafficSource']\n",
        "\n",
        "    df = pd.read_csv(csv_path, dtype={'fullVisitorId': 'str'}, nrows=nrows)\n",
        "\n",
        "    for column in JSON_COLUMNS:\n",
        "        df = df.join(pd.DataFrame(df.pop(column).apply(pd.io.json.loads).values.tolist(), index=df.index))\n",
        "\n",
        "    return df\n",
        "  \n",
        "train = load_df(\"/content/work/train.csv\")\n",
        "test = load_df(\"/content/work/test.csv\")"
      ],
      "execution_count": 0,
      "outputs": []
    },
    {
      "metadata": {
        "id": "CUtjK2LL0IDP",
        "colab_type": "code",
        "colab": {
          "base_uri": "https://localhost:8080/",
          "height": 542
        },
        "outputId": "6dcd5b07-9d2f-4956-e9a7-d63b4914106d"
      },
      "cell_type": "code",
      "source": [
        "print(train.shape)\n",
        "print(test.shape)\n",
        "train.head()"
      ],
      "execution_count": 104,
      "outputs": [
        {
          "output_type": "stream",
          "text": [
            "(903653, 50)\n",
            "(804684, 48)\n"
          ],
          "name": "stdout"
        },
        {
          "output_type": "execute_result",
          "data": {
            "text/html": [
              "<div>\n",
              "<style scoped>\n",
              "    .dataframe tbody tr th:only-of-type {\n",
              "        vertical-align: middle;\n",
              "    }\n",
              "\n",
              "    .dataframe tbody tr th {\n",
              "        vertical-align: top;\n",
              "    }\n",
              "\n",
              "    .dataframe thead th {\n",
              "        text-align: right;\n",
              "    }\n",
              "</style>\n",
              "<table border=\"1\" class=\"dataframe\">\n",
              "  <thead>\n",
              "    <tr style=\"text-align: right;\">\n",
              "      <th></th>\n",
              "      <th>channelGrouping</th>\n",
              "      <th>date</th>\n",
              "      <th>fullVisitorId</th>\n",
              "      <th>sessionId</th>\n",
              "      <th>socialEngagementType</th>\n",
              "      <th>visitId</th>\n",
              "      <th>visitNumber</th>\n",
              "      <th>visitStartTime</th>\n",
              "      <th>browser</th>\n",
              "      <th>browserSize</th>\n",
              "      <th>...</th>\n",
              "      <th>visits</th>\n",
              "      <th>adContent</th>\n",
              "      <th>adwordsClickInfo</th>\n",
              "      <th>campaign</th>\n",
              "      <th>campaignCode</th>\n",
              "      <th>isTrueDirect</th>\n",
              "      <th>keyword</th>\n",
              "      <th>medium</th>\n",
              "      <th>referralPath</th>\n",
              "      <th>source</th>\n",
              "    </tr>\n",
              "  </thead>\n",
              "  <tbody>\n",
              "    <tr>\n",
              "      <th>0</th>\n",
              "      <td>Organic Search</td>\n",
              "      <td>20160902</td>\n",
              "      <td>1131660440785968503</td>\n",
              "      <td>1131660440785968503_1472830385</td>\n",
              "      <td>Not Socially Engaged</td>\n",
              "      <td>1472830385</td>\n",
              "      <td>1</td>\n",
              "      <td>1472830385</td>\n",
              "      <td>Chrome</td>\n",
              "      <td>not available in demo dataset</td>\n",
              "      <td>...</td>\n",
              "      <td>1</td>\n",
              "      <td>NaN</td>\n",
              "      <td>{'criteriaParameters': 'not available in demo ...</td>\n",
              "      <td>(not set)</td>\n",
              "      <td>NaN</td>\n",
              "      <td>NaN</td>\n",
              "      <td>(not provided)</td>\n",
              "      <td>organic</td>\n",
              "      <td>NaN</td>\n",
              "      <td>google</td>\n",
              "    </tr>\n",
              "    <tr>\n",
              "      <th>1</th>\n",
              "      <td>Organic Search</td>\n",
              "      <td>20160902</td>\n",
              "      <td>377306020877927890</td>\n",
              "      <td>377306020877927890_1472880147</td>\n",
              "      <td>Not Socially Engaged</td>\n",
              "      <td>1472880147</td>\n",
              "      <td>1</td>\n",
              "      <td>1472880147</td>\n",
              "      <td>Firefox</td>\n",
              "      <td>not available in demo dataset</td>\n",
              "      <td>...</td>\n",
              "      <td>1</td>\n",
              "      <td>NaN</td>\n",
              "      <td>{'criteriaParameters': 'not available in demo ...</td>\n",
              "      <td>(not set)</td>\n",
              "      <td>NaN</td>\n",
              "      <td>NaN</td>\n",
              "      <td>(not provided)</td>\n",
              "      <td>organic</td>\n",
              "      <td>NaN</td>\n",
              "      <td>google</td>\n",
              "    </tr>\n",
              "    <tr>\n",
              "      <th>2</th>\n",
              "      <td>Organic Search</td>\n",
              "      <td>20160902</td>\n",
              "      <td>3895546263509774583</td>\n",
              "      <td>3895546263509774583_1472865386</td>\n",
              "      <td>Not Socially Engaged</td>\n",
              "      <td>1472865386</td>\n",
              "      <td>1</td>\n",
              "      <td>1472865386</td>\n",
              "      <td>Chrome</td>\n",
              "      <td>not available in demo dataset</td>\n",
              "      <td>...</td>\n",
              "      <td>1</td>\n",
              "      <td>NaN</td>\n",
              "      <td>{'criteriaParameters': 'not available in demo ...</td>\n",
              "      <td>(not set)</td>\n",
              "      <td>NaN</td>\n",
              "      <td>NaN</td>\n",
              "      <td>(not provided)</td>\n",
              "      <td>organic</td>\n",
              "      <td>NaN</td>\n",
              "      <td>google</td>\n",
              "    </tr>\n",
              "    <tr>\n",
              "      <th>3</th>\n",
              "      <td>Organic Search</td>\n",
              "      <td>20160902</td>\n",
              "      <td>4763447161404445595</td>\n",
              "      <td>4763447161404445595_1472881213</td>\n",
              "      <td>Not Socially Engaged</td>\n",
              "      <td>1472881213</td>\n",
              "      <td>1</td>\n",
              "      <td>1472881213</td>\n",
              "      <td>UC Browser</td>\n",
              "      <td>not available in demo dataset</td>\n",
              "      <td>...</td>\n",
              "      <td>1</td>\n",
              "      <td>NaN</td>\n",
              "      <td>{'criteriaParameters': 'not available in demo ...</td>\n",
              "      <td>(not set)</td>\n",
              "      <td>NaN</td>\n",
              "      <td>NaN</td>\n",
              "      <td>google + online</td>\n",
              "      <td>organic</td>\n",
              "      <td>NaN</td>\n",
              "      <td>google</td>\n",
              "    </tr>\n",
              "    <tr>\n",
              "      <th>4</th>\n",
              "      <td>Organic Search</td>\n",
              "      <td>20160902</td>\n",
              "      <td>27294437909732085</td>\n",
              "      <td>27294437909732085_1472822600</td>\n",
              "      <td>Not Socially Engaged</td>\n",
              "      <td>1472822600</td>\n",
              "      <td>2</td>\n",
              "      <td>1472822600</td>\n",
              "      <td>Chrome</td>\n",
              "      <td>not available in demo dataset</td>\n",
              "      <td>...</td>\n",
              "      <td>1</td>\n",
              "      <td>NaN</td>\n",
              "      <td>{'criteriaParameters': 'not available in demo ...</td>\n",
              "      <td>(not set)</td>\n",
              "      <td>NaN</td>\n",
              "      <td>True</td>\n",
              "      <td>(not provided)</td>\n",
              "      <td>organic</td>\n",
              "      <td>NaN</td>\n",
              "      <td>google</td>\n",
              "    </tr>\n",
              "  </tbody>\n",
              "</table>\n",
              "<p>5 rows × 50 columns</p>\n",
              "</div>"
            ],
            "text/plain": [
              "  channelGrouping      date        fullVisitorId  \\\n",
              "0  Organic Search  20160902  1131660440785968503   \n",
              "1  Organic Search  20160902   377306020877927890   \n",
              "2  Organic Search  20160902  3895546263509774583   \n",
              "3  Organic Search  20160902  4763447161404445595   \n",
              "4  Organic Search  20160902    27294437909732085   \n",
              "\n",
              "                        sessionId  socialEngagementType     visitId  \\\n",
              "0  1131660440785968503_1472830385  Not Socially Engaged  1472830385   \n",
              "1   377306020877927890_1472880147  Not Socially Engaged  1472880147   \n",
              "2  3895546263509774583_1472865386  Not Socially Engaged  1472865386   \n",
              "3  4763447161404445595_1472881213  Not Socially Engaged  1472881213   \n",
              "4    27294437909732085_1472822600  Not Socially Engaged  1472822600   \n",
              "\n",
              "   visitNumber  visitStartTime     browser                    browserSize  \\\n",
              "0            1      1472830385      Chrome  not available in demo dataset   \n",
              "1            1      1472880147     Firefox  not available in demo dataset   \n",
              "2            1      1472865386      Chrome  not available in demo dataset   \n",
              "3            1      1472881213  UC Browser  not available in demo dataset   \n",
              "4            2      1472822600      Chrome  not available in demo dataset   \n",
              "\n",
              "    ...   visits adContent                                   adwordsClickInfo  \\\n",
              "0   ...        1       NaN  {'criteriaParameters': 'not available in demo ...   \n",
              "1   ...        1       NaN  {'criteriaParameters': 'not available in demo ...   \n",
              "2   ...        1       NaN  {'criteriaParameters': 'not available in demo ...   \n",
              "3   ...        1       NaN  {'criteriaParameters': 'not available in demo ...   \n",
              "4   ...        1       NaN  {'criteriaParameters': 'not available in demo ...   \n",
              "\n",
              "    campaign campaignCode isTrueDirect          keyword   medium referralPath  \\\n",
              "0  (not set)          NaN          NaN   (not provided)  organic          NaN   \n",
              "1  (not set)          NaN          NaN   (not provided)  organic          NaN   \n",
              "2  (not set)          NaN          NaN   (not provided)  organic          NaN   \n",
              "3  (not set)          NaN          NaN  google + online  organic          NaN   \n",
              "4  (not set)          NaN         True   (not provided)  organic          NaN   \n",
              "\n",
              "   source  \n",
              "0  google  \n",
              "1  google  \n",
              "2  google  \n",
              "3  google  \n",
              "4  google  \n",
              "\n",
              "[5 rows x 50 columns]"
            ]
          },
          "metadata": {
            "tags": []
          },
          "execution_count": 104
        }
      ]
    },
    {
      "metadata": {
        "id": "kenneqh_iwUB",
        "colab_type": "code",
        "colab": {
          "base_uri": "https://localhost:8080/",
          "height": 34
        },
        "outputId": "4db88dcc-f1d9-4d66-9533-62a6441eadea"
      },
      "cell_type": "code",
      "source": [
        "#trainデータにあって、testデータに無いカラム\n",
        "diff_col = list(set(train.columns) - set(test.columns))\n",
        "print(diff_col)"
      ],
      "execution_count": 105,
      "outputs": [
        {
          "output_type": "stream",
          "text": [
            "['transactionRevenue', 'campaignCode']\n"
          ],
          "name": "stdout"
        }
      ]
    },
    {
      "metadata": {
        "id": "bwF_VvIEAg_p",
        "colab_type": "text"
      },
      "cell_type": "markdown",
      "source": [
        "## データクレイジング"
      ]
    },
    {
      "metadata": {
        "id": "NanORg2NjyTp",
        "colab_type": "text"
      },
      "cell_type": "markdown",
      "source": [
        "### 不要なカラムの除去"
      ]
    },
    {
      "metadata": {
        "id": "UIPMOvdm1oQk",
        "colab_type": "code",
        "colab": {
          "base_uri": "https://localhost:8080/",
          "height": 374
        },
        "outputId": "41464ec7-4f29-4930-b0a5-fb62338a7db6"
      },
      "cell_type": "code",
      "source": [
        "#全て同じ値のカラムを削除\n",
        "train['adwordsClickInfo'] = train['adwordsClickInfo'].astype(str)\n",
        "test['adwordsClickInfo'] = test['adwordsClickInfo'].astype(str)\n",
        "train = train.drop('campaignCode',axis=1)\n",
        "\n",
        "for column in train.columns:\n",
        "  if len(train[column].value_counts()) == 1:\n",
        "    train = train.drop(column,axis=1)\n",
        "    test = test.drop(column,axis=1)\n",
        "    print(column)"
      ],
      "execution_count": 106,
      "outputs": [
        {
          "output_type": "stream",
          "text": [
            "socialEngagementType\n",
            "browserSize\n",
            "browserVersion\n",
            "flashVersion\n",
            "language\n",
            "mobileDeviceBranding\n",
            "mobileDeviceInfo\n",
            "mobileDeviceMarketingName\n",
            "mobileDeviceModel\n",
            "mobileInputSelector\n",
            "operatingSystemVersion\n",
            "screenColors\n",
            "screenResolution\n",
            "cityId\n",
            "latitude\n",
            "longitude\n",
            "networkLocation\n",
            "bounces\n",
            "newVisits\n",
            "visits\n",
            "isTrueDirect\n"
          ],
          "name": "stdout"
        }
      ]
    },
    {
      "metadata": {
        "id": "yeb7YcbRZ8z1",
        "colab_type": "code",
        "colab": {
          "base_uri": "https://localhost:8080/",
          "height": 986
        },
        "outputId": "a925a014-2a03-458a-ac63-5eeecc4a2e28"
      },
      "cell_type": "code",
      "source": [
        "#欠損値を確認\n",
        "def kesson_table (df):\n",
        "  null_val = df.isnull().sum()\n",
        "  percent = (null_val / len(df)) * 100\n",
        "  kesson_table = pd.concat([null_val, percent],axis=1)\n",
        "  kesson_table_ren_columns = kesson_table.rename(columns={0:'欠損値', 1:'%'})\n",
        "  return kesson_table_ren_columns\n",
        "\n",
        "print(kesson_table(train))\n",
        "print(kesson_table(test))"
      ],
      "execution_count": 107,
      "outputs": [
        {
          "output_type": "stream",
          "text": [
            "                       欠損値          %\n",
            "channelGrouping          0   0.000000\n",
            "date                     0   0.000000\n",
            "fullVisitorId            0   0.000000\n",
            "sessionId                0   0.000000\n",
            "visitId                  0   0.000000\n",
            "visitNumber              0   0.000000\n",
            "visitStartTime           0   0.000000\n",
            "browser                  0   0.000000\n",
            "deviceCategory           0   0.000000\n",
            "isMobile                 0   0.000000\n",
            "operatingSystem          0   0.000000\n",
            "city                     0   0.000000\n",
            "continent                0   0.000000\n",
            "country                  0   0.000000\n",
            "metro                    0   0.000000\n",
            "networkDomain            0   0.000000\n",
            "region                   0   0.000000\n",
            "subContinent             0   0.000000\n",
            "hits                     0   0.000000\n",
            "pageviews              100   0.011066\n",
            "transactionRevenue  892138  98.725728\n",
            "adContent           892707  98.788694\n",
            "adwordsClickInfo         0   0.000000\n",
            "campaign                 0   0.000000\n",
            "keyword             502929  55.655102\n",
            "medium                   0   0.000000\n",
            "referralPath        572712  63.377425\n",
            "source                   0   0.000000\n",
            "                     欠損値          %\n",
            "channelGrouping        0   0.000000\n",
            "date                   0   0.000000\n",
            "fullVisitorId          0   0.000000\n",
            "sessionId              0   0.000000\n",
            "visitId                0   0.000000\n",
            "visitNumber            0   0.000000\n",
            "visitStartTime         0   0.000000\n",
            "browser                0   0.000000\n",
            "deviceCategory         0   0.000000\n",
            "isMobile               0   0.000000\n",
            "operatingSystem        0   0.000000\n",
            "city                   0   0.000000\n",
            "continent              0   0.000000\n",
            "country                0   0.000000\n",
            "metro                  0   0.000000\n",
            "networkDomain          0   0.000000\n",
            "region                 0   0.000000\n",
            "subContinent           0   0.000000\n",
            "hits                   0   0.000000\n",
            "pageviews            139   0.017274\n",
            "adContent         750893  93.315264\n",
            "adwordsClickInfo       0   0.000000\n",
            "campaign               0   0.000000\n",
            "keyword           391032  48.594479\n",
            "medium                 0   0.000000\n",
            "referralPath      569361  70.755850\n",
            "source                 0   0.000000\n"
          ],
          "name": "stdout"
        }
      ]
    },
    {
      "metadata": {
        "id": "7syswkHEqkUs",
        "colab_type": "code",
        "colab": {}
      },
      "cell_type": "code",
      "source": [
        "#半分以上データが欠損しているカラムを削除\n",
        "#transactionRevenueは目的変数なので削除しない\n",
        "del_columns = [\"referralPath\",\"keyword\", \"adContent\"]\n",
        "train = train.drop(del_columns, axis=1)\n",
        "test = test.drop(del_columns, axis=1)"
      ],
      "execution_count": 0,
      "outputs": []
    },
    {
      "metadata": {
        "id": "AOhvlBdiwmgY",
        "colab_type": "code",
        "colab": {}
      },
      "cell_type": "code",
      "source": [
        "#予測に関係のないデータを削除\n",
        "unwanted = [\"adwordsClickInfo\"]\n",
        "train = train.drop(unwanted, axis=1)\n",
        "test = test.drop(unwanted, axis=1)"
      ],
      "execution_count": 0,
      "outputs": []
    },
    {
      "metadata": {
        "id": "qUg438ANyFvX",
        "colab_type": "code",
        "colab": {}
      },
      "cell_type": "code",
      "source": [
        "#transactionRevenueのNaNを0埋め\n",
        "train['transactionRevenue'] = train['transactionRevenue'].fillna(0)"
      ],
      "execution_count": 0,
      "outputs": []
    },
    {
      "metadata": {
        "id": "19LGEO3IFSBN",
        "colab_type": "code",
        "colab": {
          "base_uri": "https://localhost:8080/",
          "height": 153
        },
        "outputId": "a9572bca-c4c4-48a2-de58-a36547b7d49d"
      },
      "cell_type": "code",
      "source": [
        "print(train.shape)\n",
        "print(test.shape)\n",
        "print(train.columns)"
      ],
      "execution_count": 111,
      "outputs": [
        {
          "output_type": "stream",
          "text": [
            "(903653, 24)\n",
            "(804684, 23)\n",
            "Index(['channelGrouping', 'date', 'fullVisitorId', 'sessionId', 'visitId',\n",
            "       'visitNumber', 'visitStartTime', 'browser', 'deviceCategory',\n",
            "       'isMobile', 'operatingSystem', 'city', 'continent', 'country', 'metro',\n",
            "       'networkDomain', 'region', 'subContinent', 'hits', 'pageviews',\n",
            "       'transactionRevenue', 'campaign', 'medium', 'source'],\n",
            "      dtype='object')\n"
          ],
          "name": "stdout"
        }
      ]
    },
    {
      "metadata": {
        "id": "6xZNaZjWB_Hv",
        "colab_type": "text"
      },
      "cell_type": "markdown",
      "source": [
        "## プロット"
      ]
    },
    {
      "metadata": {
        "id": "ywaqCvjdIGSk",
        "colab_type": "text"
      },
      "cell_type": "markdown",
      "source": [
        "### transactionRevenueの散布図\n",
        "お金を払っているユーザの割合\n"
      ]
    },
    {
      "metadata": {
        "id": "V8HUWJVbCDNy",
        "colab_type": "code",
        "colab": {
          "base_uri": "https://localhost:8080/",
          "height": 458
        },
        "outputId": "1268db8c-f5c5-4f00-9dc8-afdaf3b48e18"
      },
      "cell_type": "code",
      "source": [
        "#fullVisitorIdのグループ毎にtransactionRevenueの合計算出\n",
        "train['transactionRevenue'] = train['transactionRevenue'].astype(float)\n",
        "gdf = train.groupby('fullVisitorId')['transactionRevenue'].sum().reset_index()\n",
        "gdf = gdf.sort_values('transactionRevenue')\n",
        "sns.jointplot(np.arange(gdf.shape[0]),np.log1p(gdf['transactionRevenue'].values))\n",
        "print(\"お金を払っているユーザの割合は全体の\" ,100 * ((gdf['transactionRevenue']>0).sum()) / gdf.shape[0], \"%\")"
      ],
      "execution_count": 112,
      "outputs": [
        {
          "output_type": "stream",
          "text": [
            "お金を払っているユーザの割合は全体の 1.399672625590373 %\n"
          ],
          "name": "stdout"
        },
        {
          "output_type": "display_data",
          "data": {
            "image/png": "[encoded data removed]",
            "text/plain": [
              "<matplotlib.figure.Figure at 0x7f1cd85e6d68>"
            ]
          },
          "metadata": {
            "tags": []
          }
        }
      ]
    },
    {
      "metadata": {
        "id": "8TxKAPaHRX3W",
        "colab_type": "code",
        "colab": {}
      },
      "cell_type": "code",
      "source": [
        "#日付の型をdatetimeに変換\n",
        "train['date'] = train['date'].apply(lambda x : datetime.date(int(str(x)[0:4]),int(str(x)[4:6]),int(str(x)[6:8])))"
      ],
      "execution_count": 0,
      "outputs": []
    },
    {
      "metadata": {
        "id": "qAoTu3KvQL_A",
        "colab_type": "code",
        "colab": {
          "base_uri": "https://localhost:8080/",
          "height": 464
        },
        "outputId": "80c1d00c-5375-4106-e3fb-7ea00304effc"
      },
      "cell_type": "code",
      "source": [
        "dateRev = train.groupby('date')['transactionRevenue'].agg(['count', 'sum'])\n",
        "plt.figure(figsize=(20,7))\n",
        "plt.ticklabel_format(axis='y', style='plain')\n",
        "plt.ylabel('Sum transactionRevenue', fontsize=12)\n",
        "plt.xlabel('Date', fontsize=12)\n",
        "plt.scatter(dateRev.index.values, dateRev['sum'])\n",
        "plt.show()"
      ],
      "execution_count": 244,
      "outputs": [
        {
          "output_type": "display_data",
          "data": {
            "image/png": "[encoded data removed]",
            "text/plain": [
              "<matplotlib.figure.Figure at 0x7f1c2f4d20f0>"
            ]
          },
          "metadata": {
            "tags": []
          }
        }
      ]
    },
    {
      "metadata": {
        "id": "IC--E4Xy7z7O",
        "colab_type": "text"
      },
      "cell_type": "markdown",
      "source": [
        "### 棒グラフ"
      ]
    },
    {
      "metadata": {
        "id": "4kGfeGePfvr9",
        "colab_type": "code",
        "colab": {}
      },
      "cell_type": "code",
      "source": [
        "#新しい列追加　\n",
        "train['Revenue'] = None\n",
        "train['Revenue'][train['transactionRevenue'] == 0] = 'zero'\n",
        "train['Revenue'][train['transactionRevenue'] > 0] = 'non-zero'"
      ],
      "execution_count": 0,
      "outputs": []
    },
    {
      "metadata": {
        "id": "ECnrHKhmtTCv",
        "colab_type": "code",
        "colab": {}
      },
      "cell_type": "code",
      "source": [
        "#データ数少ない要素をまとめる\n",
        "select_browser = ['Chrome', 'Safari', 'Firefox', 'Internet Explorer', 'Edge', 'Android Webview', 'Safari (in-app)', 'Opera Mini', 'Opera']\n",
        "del_browser = set(train['browser'].unique()) -  set(select_browser)\n",
        "for br in del_browser:\n",
        "  train['browser'] = train['browser'].replace(br, 'Others')\n",
        "\n",
        "select_os = ['Windows', 'Macintosh', 'Android', 'iOS', 'Linux', 'Chrome OS']\n",
        "del_os = set(train['operatingSystem'].unique()) -  set(select_os)\n",
        "for br in del_os:\n",
        "  train['operatingSystem'] = train['operatingSystem'].replace(br, 'Others')"
      ],
      "execution_count": 0,
      "outputs": []
    },
    {
      "metadata": {
        "id": "_7iW6WR78Kjg",
        "colab_type": "code",
        "colab": {
          "base_uri": "https://localhost:8080/",
          "height": 1064
        },
        "outputId": "2fbc0737-7134-4ab1-9670-7c1f73d6ae14"
      },
      "cell_type": "code",
      "source": [
        "fig, axes = plt.subplots(nrows=4, ncols=2, figsize=(10,16))\n",
        "plt.subplots_adjust(wspace=0.4, hspace=0.4, top=0.9)\n",
        "sns.plt.suptitle('non-zero                              zero', fontsize=20)\n",
        "sns.countplot(y='deviceCategory', data=train[train['Revenue'] == 'non-zero'],order=train['deviceCategory'].unique(), ax = axes[0][0])\n",
        "sns.countplot(y='deviceCategory', data=train[train['Revenue'] == 'zero'], order=train['deviceCategory'].unique(), ax = axes[0][1])\n",
        "sns.countplot(y='browser', data=train[train['Revenue'] == 'non-zero'], order=train['browser'].unique(), ax = axes[1][0])\n",
        "sns.countplot(y='browser', data=train[train['Revenue'] == 'zero'],order=train['browser'].unique(), ax = axes[1][1])\n",
        "sns.countplot(y='operatingSystem', data=train[train['Revenue'] == 'non-zero'], order=train['operatingSystem'].unique(), ax = axes[2][0])\n",
        "sns.countplot(y='operatingSystem', data=train[train['Revenue'] == 'zero'], order=train['operatingSystem'].unique(), ax = axes[2][1])\n",
        "sns.countplot(y='isMobile', data=train[train['Revenue'] == 'non-zero'], order=train['isMobile'].unique(), ax = axes[3][0])\n",
        "sns.countplot(y='isMobile', data=train[train['Revenue'] == 'zero'], order=train['isMobile'].unique(),ax = axes[3][1])"
      ],
      "execution_count": 199,
      "outputs": [
        {
          "output_type": "execute_result",
          "data": {
            "text/plain": [
              "<matplotlib.axes._subplots.AxesSubplot at 0x7f1c39b751d0>"
            ]
          },
          "metadata": {
            "tags": []
          },
          "execution_count": 199
        },
        {
          "output_type": "display_data",
          "data": {
            "image/png": "[encoded data removed]",
            "text/plain": [
              "<matplotlib.figure.Figure at 0x7f1c48562048>"
            ]
          },
          "metadata": {
            "tags": []
          }
        }
      ]
    },
    {
      "metadata": {
        "id": "3rle9mQ4_txi",
        "colab_type": "text"
      },
      "cell_type": "markdown",
      "source": [
        "- deviceCategoryはnon-zeroの方がデスクトップの割合高い   \n",
        "- browserはzeroの方がSafariの割合高い   \n",
        "- operatingSystemはnon-zeroがWindowsよりもMacintosh使用率高い\n",
        "- non-zeroはChrome OSの使用率も高い\n",
        "- non-zeroはモバイルOSの割合が低い"
      ]
    },
    {
      "metadata": {
        "id": "uJ6mnXGcK_vH",
        "colab_type": "text"
      },
      "cell_type": "markdown",
      "source": [
        "### 折れ線グラフ"
      ]
    },
    {
      "metadata": {
        "id": "pFxTzidpBtGB",
        "colab_type": "code",
        "colab": {
          "base_uri": "https://localhost:8080/",
          "height": 2000
        },
        "outputId": "5b4df3ae-b975-46d3-d508-3d0d53622885"
      },
      "cell_type": "code",
      "source": [
        "train.groupby('date')['transactionRevenue'].agg(['count', 'sum'])"
      ],
      "execution_count": 210,
      "outputs": [
        {
          "output_type": "execute_result",
          "data": {
            "text/html": [
              "<div>\n",
              "<style scoped>\n",
              "    .dataframe tbody tr th:only-of-type {\n",
              "        vertical-align: middle;\n",
              "    }\n",
              "\n",
              "    .dataframe tbody tr th {\n",
              "        vertical-align: top;\n",
              "    }\n",
              "\n",
              "    .dataframe thead th {\n",
              "        text-align: right;\n",
              "    }\n",
              "</style>\n",
              "<table border=\"1\" class=\"dataframe\">\n",
              "  <thead>\n",
              "    <tr style=\"text-align: right;\">\n",
              "      <th></th>\n",
              "      <th>count</th>\n",
              "      <th>sum</th>\n",
              "    </tr>\n",
              "    <tr>\n",
              "      <th>date</th>\n",
              "      <th></th>\n",
              "      <th></th>\n",
              "    </tr>\n",
              "  </thead>\n",
              "  <tbody>\n",
              "    <tr>\n",
              "      <th>20160801</th>\n",
              "      <td>1711</td>\n",
              "      <td>6.116060e+09</td>\n",
              "    </tr>\n",
              "    <tr>\n",
              "      <th>20160802</th>\n",
              "      <td>2140</td>\n",
              "      <td>1.361190e+09</td>\n",
              "    </tr>\n",
              "    <tr>\n",
              "      <th>20160803</th>\n",
              "      <td>2890</td>\n",
              "      <td>0.000000e+00</td>\n",
              "    </tr>\n",
              "    <tr>\n",
              "      <th>20160804</th>\n",
              "      <td>3161</td>\n",
              "      <td>1.182890e+09</td>\n",
              "    </tr>\n",
              "    <tr>\n",
              "      <th>20160805</th>\n",
              "      <td>2702</td>\n",
              "      <td>5.594260e+09</td>\n",
              "    </tr>\n",
              "    <tr>\n",
              "      <th>20160806</th>\n",
              "      <td>1663</td>\n",
              "      <td>1.891040e+09</td>\n",
              "    </tr>\n",
              "    <tr>\n",
              "      <th>20160807</th>\n",
              "      <td>1622</td>\n",
              "      <td>2.410730e+09</td>\n",
              "    </tr>\n",
              "    <tr>\n",
              "      <th>20160808</th>\n",
              "      <td>2815</td>\n",
              "      <td>5.273810e+09</td>\n",
              "    </tr>\n",
              "    <tr>\n",
              "      <th>20160809</th>\n",
              "      <td>2851</td>\n",
              "      <td>5.596400e+09</td>\n",
              "    </tr>\n",
              "    <tr>\n",
              "      <th>20160810</th>\n",
              "      <td>2757</td>\n",
              "      <td>4.284210e+09</td>\n",
              "    </tr>\n",
              "    <tr>\n",
              "      <th>20160811</th>\n",
              "      <td>2667</td>\n",
              "      <td>7.427120e+09</td>\n",
              "    </tr>\n",
              "    <tr>\n",
              "      <th>20160812</th>\n",
              "      <td>2619</td>\n",
              "      <td>8.091190e+09</td>\n",
              "    </tr>\n",
              "    <tr>\n",
              "      <th>20160813</th>\n",
              "      <td>1596</td>\n",
              "      <td>2.198710e+09</td>\n",
              "    </tr>\n",
              "    <tr>\n",
              "      <th>20160814</th>\n",
              "      <td>1801</td>\n",
              "      <td>3.360510e+09</td>\n",
              "    </tr>\n",
              "    <tr>\n",
              "      <th>20160815</th>\n",
              "      <td>3043</td>\n",
              "      <td>6.220330e+09</td>\n",
              "    </tr>\n",
              "    <tr>\n",
              "      <th>20160816</th>\n",
              "      <td>2873</td>\n",
              "      <td>5.822290e+09</td>\n",
              "    </tr>\n",
              "    <tr>\n",
              "      <th>20160817</th>\n",
              "      <td>2799</td>\n",
              "      <td>7.124890e+09</td>\n",
              "    </tr>\n",
              "    <tr>\n",
              "      <th>20160818</th>\n",
              "      <td>2725</td>\n",
              "      <td>6.130610e+09</td>\n",
              "    </tr>\n",
              "    <tr>\n",
              "      <th>20160819</th>\n",
              "      <td>2379</td>\n",
              "      <td>3.467300e+09</td>\n",
              "    </tr>\n",
              "    <tr>\n",
              "      <th>20160820</th>\n",
              "      <td>1664</td>\n",
              "      <td>3.243030e+09</td>\n",
              "    </tr>\n",
              "    <tr>\n",
              "      <th>20160821</th>\n",
              "      <td>1730</td>\n",
              "      <td>2.365310e+09</td>\n",
              "    </tr>\n",
              "    <tr>\n",
              "      <th>20160822</th>\n",
              "      <td>2584</td>\n",
              "      <td>1.079184e+10</td>\n",
              "    </tr>\n",
              "    <tr>\n",
              "      <th>20160823</th>\n",
              "      <td>2754</td>\n",
              "      <td>9.625700e+09</td>\n",
              "    </tr>\n",
              "    <tr>\n",
              "      <th>20160824</th>\n",
              "      <td>2627</td>\n",
              "      <td>5.632410e+09</td>\n",
              "    </tr>\n",
              "    <tr>\n",
              "      <th>20160825</th>\n",
              "      <td>2539</td>\n",
              "      <td>1.718621e+10</td>\n",
              "    </tr>\n",
              "    <tr>\n",
              "      <th>20160826</th>\n",
              "      <td>2359</td>\n",
              "      <td>4.918860e+09</td>\n",
              "    </tr>\n",
              "    <tr>\n",
              "      <th>20160827</th>\n",
              "      <td>1654</td>\n",
              "      <td>9.150800e+08</td>\n",
              "    </tr>\n",
              "    <tr>\n",
              "      <th>20160828</th>\n",
              "      <td>1682</td>\n",
              "      <td>3.094520e+09</td>\n",
              "    </tr>\n",
              "    <tr>\n",
              "      <th>20160829</th>\n",
              "      <td>2454</td>\n",
              "      <td>6.593430e+09</td>\n",
              "    </tr>\n",
              "    <tr>\n",
              "      <th>20160830</th>\n",
              "      <td>2675</td>\n",
              "      <td>2.883710e+09</td>\n",
              "    </tr>\n",
              "    <tr>\n",
              "      <th>...</th>\n",
              "      <td>...</td>\n",
              "      <td>...</td>\n",
              "    </tr>\n",
              "    <tr>\n",
              "      <th>20170703</th>\n",
              "      <td>2046</td>\n",
              "      <td>1.225810e+09</td>\n",
              "    </tr>\n",
              "    <tr>\n",
              "      <th>20170704</th>\n",
              "      <td>1938</td>\n",
              "      <td>3.799800e+08</td>\n",
              "    </tr>\n",
              "    <tr>\n",
              "      <th>20170705</th>\n",
              "      <td>2885</td>\n",
              "      <td>8.029360e+09</td>\n",
              "    </tr>\n",
              "    <tr>\n",
              "      <th>20170706</th>\n",
              "      <td>2658</td>\n",
              "      <td>3.883850e+09</td>\n",
              "    </tr>\n",
              "    <tr>\n",
              "      <th>20170707</th>\n",
              "      <td>2450</td>\n",
              "      <td>4.339020e+09</td>\n",
              "    </tr>\n",
              "    <tr>\n",
              "      <th>20170708</th>\n",
              "      <td>1859</td>\n",
              "      <td>4.549600e+08</td>\n",
              "    </tr>\n",
              "    <tr>\n",
              "      <th>20170709</th>\n",
              "      <td>1921</td>\n",
              "      <td>7.511000e+08</td>\n",
              "    </tr>\n",
              "    <tr>\n",
              "      <th>20170710</th>\n",
              "      <td>2769</td>\n",
              "      <td>4.718070e+09</td>\n",
              "    </tr>\n",
              "    <tr>\n",
              "      <th>20170711</th>\n",
              "      <td>2635</td>\n",
              "      <td>5.369640e+09</td>\n",
              "    </tr>\n",
              "    <tr>\n",
              "      <th>20170712</th>\n",
              "      <td>2554</td>\n",
              "      <td>3.149340e+09</td>\n",
              "    </tr>\n",
              "    <tr>\n",
              "      <th>20170713</th>\n",
              "      <td>2741</td>\n",
              "      <td>6.098580e+09</td>\n",
              "    </tr>\n",
              "    <tr>\n",
              "      <th>20170714</th>\n",
              "      <td>2382</td>\n",
              "      <td>4.228840e+09</td>\n",
              "    </tr>\n",
              "    <tr>\n",
              "      <th>20170715</th>\n",
              "      <td>1721</td>\n",
              "      <td>7.407200e+08</td>\n",
              "    </tr>\n",
              "    <tr>\n",
              "      <th>20170716</th>\n",
              "      <td>1766</td>\n",
              "      <td>1.748720e+09</td>\n",
              "    </tr>\n",
              "    <tr>\n",
              "      <th>20170717</th>\n",
              "      <td>2671</td>\n",
              "      <td>4.616770e+09</td>\n",
              "    </tr>\n",
              "    <tr>\n",
              "      <th>20170718</th>\n",
              "      <td>2804</td>\n",
              "      <td>1.700296e+10</td>\n",
              "    </tr>\n",
              "    <tr>\n",
              "      <th>20170719</th>\n",
              "      <td>2514</td>\n",
              "      <td>6.038300e+09</td>\n",
              "    </tr>\n",
              "    <tr>\n",
              "      <th>20170720</th>\n",
              "      <td>2668</td>\n",
              "      <td>4.688700e+09</td>\n",
              "    </tr>\n",
              "    <tr>\n",
              "      <th>20170721</th>\n",
              "      <td>2427</td>\n",
              "      <td>3.603880e+09</td>\n",
              "    </tr>\n",
              "    <tr>\n",
              "      <th>20170722</th>\n",
              "      <td>1724</td>\n",
              "      <td>2.395000e+09</td>\n",
              "    </tr>\n",
              "    <tr>\n",
              "      <th>20170723</th>\n",
              "      <td>1966</td>\n",
              "      <td>2.246920e+09</td>\n",
              "    </tr>\n",
              "    <tr>\n",
              "      <th>20170724</th>\n",
              "      <td>2436</td>\n",
              "      <td>4.415620e+09</td>\n",
              "    </tr>\n",
              "    <tr>\n",
              "      <th>20170725</th>\n",
              "      <td>2631</td>\n",
              "      <td>5.240730e+09</td>\n",
              "    </tr>\n",
              "    <tr>\n",
              "      <th>20170726</th>\n",
              "      <td>2725</td>\n",
              "      <td>4.640450e+09</td>\n",
              "    </tr>\n",
              "    <tr>\n",
              "      <th>20170727</th>\n",
              "      <td>2529</td>\n",
              "      <td>4.348380e+09</td>\n",
              "    </tr>\n",
              "    <tr>\n",
              "      <th>20170728</th>\n",
              "      <td>2433</td>\n",
              "      <td>4.709440e+09</td>\n",
              "    </tr>\n",
              "    <tr>\n",
              "      <th>20170729</th>\n",
              "      <td>1597</td>\n",
              "      <td>1.045010e+09</td>\n",
              "    </tr>\n",
              "    <tr>\n",
              "      <th>20170730</th>\n",
              "      <td>1799</td>\n",
              "      <td>2.254160e+09</td>\n",
              "    </tr>\n",
              "    <tr>\n",
              "      <th>20170731</th>\n",
              "      <td>2620</td>\n",
              "      <td>1.141544e+10</td>\n",
              "    </tr>\n",
              "    <tr>\n",
              "      <th>20170801</th>\n",
              "      <td>2556</td>\n",
              "      <td>8.304940e+09</td>\n",
              "    </tr>\n",
              "  </tbody>\n",
              "</table>\n",
              "<p>366 rows × 2 columns</p>\n",
              "</div>"
            ],
            "text/plain": [
              "          count           sum\n",
              "date                         \n",
              "20160801   1711  6.116060e+09\n",
              "20160802   2140  1.361190e+09\n",
              "20160803   2890  0.000000e+00\n",
              "20160804   3161  1.182890e+09\n",
              "20160805   2702  5.594260e+09\n",
              "20160806   1663  1.891040e+09\n",
              "20160807   1622  2.410730e+09\n",
              "20160808   2815  5.273810e+09\n",
              "20160809   2851  5.596400e+09\n",
              "20160810   2757  4.284210e+09\n",
              "20160811   2667  7.427120e+09\n",
              "20160812   2619  8.091190e+09\n",
              "20160813   1596  2.198710e+09\n",
              "20160814   1801  3.360510e+09\n",
              "20160815   3043  6.220330e+09\n",
              "20160816   2873  5.822290e+09\n",
              "20160817   2799  7.124890e+09\n",
              "20160818   2725  6.130610e+09\n",
              "20160819   2379  3.467300e+09\n",
              "20160820   1664  3.243030e+09\n",
              "20160821   1730  2.365310e+09\n",
              "20160822   2584  1.079184e+10\n",
              "20160823   2754  9.625700e+09\n",
              "20160824   2627  5.632410e+09\n",
              "20160825   2539  1.718621e+10\n",
              "20160826   2359  4.918860e+09\n",
              "20160827   1654  9.150800e+08\n",
              "20160828   1682  3.094520e+09\n",
              "20160829   2454  6.593430e+09\n",
              "20160830   2675  2.883710e+09\n",
              "...         ...           ...\n",
              "20170703   2046  1.225810e+09\n",
              "20170704   1938  3.799800e+08\n",
              "20170705   2885  8.029360e+09\n",
              "20170706   2658  3.883850e+09\n",
              "20170707   2450  4.339020e+09\n",
              "20170708   1859  4.549600e+08\n",
              "20170709   1921  7.511000e+08\n",
              "20170710   2769  4.718070e+09\n",
              "20170711   2635  5.369640e+09\n",
              "20170712   2554  3.149340e+09\n",
              "20170713   2741  6.098580e+09\n",
              "20170714   2382  4.228840e+09\n",
              "20170715   1721  7.407200e+08\n",
              "20170716   1766  1.748720e+09\n",
              "20170717   2671  4.616770e+09\n",
              "20170718   2804  1.700296e+10\n",
              "20170719   2514  6.038300e+09\n",
              "20170720   2668  4.688700e+09\n",
              "20170721   2427  3.603880e+09\n",
              "20170722   1724  2.395000e+09\n",
              "20170723   1966  2.246920e+09\n",
              "20170724   2436  4.415620e+09\n",
              "20170725   2631  5.240730e+09\n",
              "20170726   2725  4.640450e+09\n",
              "20170727   2529  4.348380e+09\n",
              "20170728   2433  4.709440e+09\n",
              "20170729   1597  1.045010e+09\n",
              "20170730   1799  2.254160e+09\n",
              "20170731   2620  1.141544e+10\n",
              "20170801   2556  8.304940e+09\n",
              "\n",
              "[366 rows x 2 columns]"
            ]
          },
          "metadata": {
            "tags": []
          },
          "execution_count": 210
        }
      ]
    }
  ]
}